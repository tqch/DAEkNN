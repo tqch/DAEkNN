{
 "cells": [
  {
   "cell_type": "code",
   "execution_count": 1,
   "metadata": {},
   "outputs": [],
   "source": [
    "import os\n",
    "import torch\n",
    "import numpy as np\n",
    "from pgd import PGD\n",
    "from dknn import AdvDKNN, DKNN\n",
    "from models.vgg import VGG16\n",
    "from torchvision.datasets import CIFAR10"
   ]
  },
  {
   "cell_type": "code",
   "execution_count": 2,
   "metadata": {},
   "outputs": [
    {
     "data": {
      "text/plain": [
       "VGG16(\n",
       "  (f1): Sequential(\n",
       "    (0): Conv2d(3, 64, kernel_size=(3, 3), stride=(1, 1), padding=(1, 1))\n",
       "    (1): BatchNorm2d(64, eps=1e-05, momentum=0.1, affine=True, track_running_stats=True)\n",
       "    (2): ReLU(inplace=True)\n",
       "    (3): Conv2d(64, 64, kernel_size=(3, 3), stride=(1, 1), padding=(1, 1))\n",
       "    (4): BatchNorm2d(64, eps=1e-05, momentum=0.1, affine=True, track_running_stats=True)\n",
       "    (5): ReLU(inplace=True)\n",
       "    (6): MaxPool2d(kernel_size=2, stride=2, padding=0, dilation=1, ceil_mode=False)\n",
       "  )\n",
       "  (f2): Sequential(\n",
       "    (0): Conv2d(64, 128, kernel_size=(3, 3), stride=(1, 1), padding=(1, 1))\n",
       "    (1): BatchNorm2d(128, eps=1e-05, momentum=0.1, affine=True, track_running_stats=True)\n",
       "    (2): ReLU(inplace=True)\n",
       "    (3): Conv2d(128, 128, kernel_size=(3, 3), stride=(1, 1), padding=(1, 1))\n",
       "    (4): BatchNorm2d(128, eps=1e-05, momentum=0.1, affine=True, track_running_stats=True)\n",
       "    (5): ReLU(inplace=True)\n",
       "    (6): MaxPool2d(kernel_size=2, stride=2, padding=0, dilation=1, ceil_mode=False)\n",
       "  )\n",
       "  (f3): Sequential(\n",
       "    (0): Conv2d(128, 256, kernel_size=(3, 3), stride=(1, 1), padding=(1, 1))\n",
       "    (1): BatchNorm2d(256, eps=1e-05, momentum=0.1, affine=True, track_running_stats=True)\n",
       "    (2): ReLU(inplace=True)\n",
       "    (3): Conv2d(256, 256, kernel_size=(3, 3), stride=(1, 1), padding=(1, 1))\n",
       "    (4): BatchNorm2d(256, eps=1e-05, momentum=0.1, affine=True, track_running_stats=True)\n",
       "    (5): ReLU(inplace=True)\n",
       "    (6): Conv2d(256, 256, kernel_size=(3, 3), stride=(1, 1), padding=(1, 1))\n",
       "    (7): BatchNorm2d(256, eps=1e-05, momentum=0.1, affine=True, track_running_stats=True)\n",
       "    (8): ReLU(inplace=True)\n",
       "    (9): MaxPool2d(kernel_size=2, stride=2, padding=0, dilation=1, ceil_mode=False)\n",
       "  )\n",
       "  (f4): Sequential(\n",
       "    (0): Conv2d(256, 512, kernel_size=(3, 3), stride=(1, 1), padding=(1, 1))\n",
       "    (1): BatchNorm2d(512, eps=1e-05, momentum=0.1, affine=True, track_running_stats=True)\n",
       "    (2): ReLU(inplace=True)\n",
       "    (3): Conv2d(512, 512, kernel_size=(3, 3), stride=(1, 1), padding=(1, 1))\n",
       "    (4): BatchNorm2d(512, eps=1e-05, momentum=0.1, affine=True, track_running_stats=True)\n",
       "    (5): ReLU(inplace=True)\n",
       "    (6): Conv2d(512, 512, kernel_size=(3, 3), stride=(1, 1), padding=(1, 1))\n",
       "    (7): BatchNorm2d(512, eps=1e-05, momentum=0.1, affine=True, track_running_stats=True)\n",
       "    (8): ReLU(inplace=True)\n",
       "    (9): MaxPool2d(kernel_size=2, stride=2, padding=0, dilation=1, ceil_mode=False)\n",
       "  )\n",
       "  (f5): Sequential(\n",
       "    (0): Conv2d(512, 512, kernel_size=(3, 3), stride=(1, 1), padding=(1, 1))\n",
       "    (1): BatchNorm2d(512, eps=1e-05, momentum=0.1, affine=True, track_running_stats=True)\n",
       "    (2): ReLU(inplace=True)\n",
       "    (3): Conv2d(512, 512, kernel_size=(3, 3), stride=(1, 1), padding=(1, 1))\n",
       "    (4): BatchNorm2d(512, eps=1e-05, momentum=0.1, affine=True, track_running_stats=True)\n",
       "    (5): ReLU(inplace=True)\n",
       "    (6): Conv2d(512, 512, kernel_size=(3, 3), stride=(1, 1), padding=(1, 1))\n",
       "    (7): BatchNorm2d(512, eps=1e-05, momentum=0.1, affine=True, track_running_stats=True)\n",
       "    (8): ReLU(inplace=True)\n",
       "    (9): MaxPool2d(kernel_size=2, stride=2, padding=0, dilation=1, ceil_mode=False)\n",
       "  )\n",
       "  (classifier): Sequential(\n",
       "    (0): Dropout(p=0.5, inplace=False)\n",
       "    (1): Linear(in_features=512, out_features=512, bias=True)\n",
       "    (2): ReLU(inplace=True)\n",
       "    (3): Dropout(p=0.5, inplace=False)\n",
       "    (4): Linear(in_features=512, out_features=512, bias=True)\n",
       "    (5): ReLU(inplace=True)\n",
       "    (6): Linear(in_features=512, out_features=10, bias=True)\n",
       "  )\n",
       ")"
      ]
     },
     "execution_count": 2,
     "metadata": {},
     "output_type": "execute_result"
    }
   ],
   "source": [
    "root = \"./datasets\"\n",
    "model_weights = \"./model_weights/cifar_vgg_at.pt\"\n",
    "device = torch.device(\"cuda\" if torch.cuda.is_available() else \"cpu\")\n",
    "download = not os.path.exists(os.path.join(root,\"cifar-10-python.tar.gz\"))\n",
    "random_seed = 1234\n",
    "class_samp_size = 2000\n",
    "\n",
    "trainset = CIFAR10(root=root, train=True, download=download)\n",
    "testset = CIFAR10(root=root, train=False, download=download)\n",
    "\n",
    "np.random.seed(random_seed)\n",
    "subset = [\n",
    "    np.random.choice(\n",
    "        np.where(np.array(trainset.targets)==i)[0],\n",
    "        size=class_samp_size,\n",
    "        replace=False\n",
    "    ) for i in range(10)\n",
    "]\n",
    "train_data = torch.cat([\n",
    "    torch.FloatTensor(trainset.data[inds].transpose(0,3,1,2)/255) for inds in subset\n",
    "], dim=0)\n",
    "train_targets = torch.arange(10).repeat_interleave(class_samp_size)\n",
    "\n",
    "model = VGG16()\n",
    "model.load_state_dict(torch.load(model_weights, map_location=device))\n",
    "model.eval()\n",
    "model.to(device)"
   ]
  },
  {
   "cell_type": "code",
   "execution_count": 3,
   "metadata": {},
   "outputs": [],
   "source": [
    "pgd = PGD(eps=8 / 255., step_size=2 / 255., max_iter=10, random_init=True, batch_size=128)\n",
    "\n",
    "x, y = (\n",
    "    torch.FloatTensor(testset.data.transpose(0, 3, 1, 2) / 255.)[:1000],\n",
    "    torch.LongTensor(testset.targets)[:1000]\n",
    ")\n",
    "\n",
    "x_adv = pgd.generate(model, x, y, device=device)"
   ]
  },
  {
   "cell_type": "code",
   "execution_count": 4,
   "metadata": {},
   "outputs": [
    {
     "name": "stderr",
     "output_type": "stream",
     "text": [
      "100%|██████████| 1/1 [00:08<00:00,  8.70s/it]\n",
      "100%|██████████| 1/1 [00:08<00:00,  8.66s/it]\n",
      "100%|██████████| 1/1 [00:08<00:00,  8.96s/it]\n"
     ]
    },
    {
     "name": "stdout",
     "output_type": "stream",
     "text": [
      "The benign accuracy by DKNN is 0.82\n",
      "The adversarial accuracy by DKNN is 0.433\n",
      "The benign accuracy by Adv-DKNN is 0.816\n",
      "The adversarial accuracy by Adv-DKNN is 0.459\n"
     ]
    }
   ],
   "source": [
    "dknn = DKNN(\n",
    "    model,\n",
    "    train_data,\n",
    "    train_targets,\n",
    "    hidden_layers=[3,],\n",
    "    device=device\n",
    ")\n",
    "advdknn = AdvDKNN(\n",
    "    model,\n",
    "    train_data,\n",
    "    train_targets,\n",
    "    hidden_layers=[3,],\n",
    "    device=device,\n",
    "    eps=8 / 255.,\n",
    "    step_size=2 / 255.,\n",
    "    max_iter=10,\n",
    "    random_init=True\n",
    ")\n",
    "\n",
    "pred_benign_dknn = dknn(x.to(device)).argmax(axis=1)\n",
    "acc_benign_dknn = (pred_benign_dknn == y.numpy()).astype(\"float\").mean()\n",
    "print(f\"The benign accuracy by DKNN is {acc_benign_dknn}\")\n",
    "\n",
    "pred_adv_dknn = dknn(x_adv.to(device)).argmax(axis=1)\n",
    "acc_adv_dknn = (pred_adv_dknn == y.numpy()).astype(\"float\").mean()\n",
    "print(f\"The adversarial accuracy by DKNN is {acc_adv_dknn}\")\n",
    "\n",
    "pred_benign_advdknn = advdknn(x.to(device)).argmax(axis=1)\n",
    "acc_benign_advdknn = (pred_benign_advdknn == y.numpy()).astype(\"float\").mean()\n",
    "print(f\"The benign accuracy by Adv-DKNN is {acc_benign_advdknn}\")\n",
    "\n",
    "pred_adv_advdknn = advdknn(x_adv.to(device)).argmax(axis=1)\n",
    "acc_adv_advdknn = (pred_adv_advdknn == y.numpy()).astype(\"float\").mean()\n",
    "print(f\"The adversarial accuracy by Adv-DKNN is {acc_adv_advdknn}\")"
   ]
  },
  {
   "cell_type": "code",
   "execution_count": 5,
   "metadata": {},
   "outputs": [
    {
     "name": "stderr",
     "output_type": "stream",
     "text": [
      "100%|██████████| 1/1 [00:08<00:00,  8.65s/it]\n",
      "100%|██████████| 1/1 [00:08<00:00,  8.67s/it]\n"
     ]
    },
    {
     "name": "stdout",
     "output_type": "stream",
     "text": [
      "The benign accuracy by Adv-DKNN is 0.819\n",
      "The adversarial accuracy by Adv-DKNN is 0.449\n"
     ]
    }
   ],
   "source": [
    "advdknn = AdvDKNN(\n",
    "    model,\n",
    "    train_data,\n",
    "    train_targets,\n",
    "    hidden_layers=[3,],\n",
    "    device=device,\n",
    "    eps=4 / 255.,\n",
    "    step_size=2 / 255.,\n",
    "    max_iter=10,\n",
    "    random_init=True\n",
    ")\n",
    "pred_benign_advdknn = advdknn(x.to(device)).argmax(axis=1)\n",
    "acc_benign_advdknn = (pred_benign_advdknn == y.numpy()).astype(\"float\").mean()\n",
    "print(f\"The benign accuracy by Adv-DKNN is {acc_benign_advdknn}\")\n",
    "\n",
    "pred_adv_advdknn = advdknn(x_adv.to(device)).argmax(axis=1)\n",
    "acc_adv_advdknn = (pred_adv_advdknn == y.numpy()).astype(\"float\").mean()\n",
    "print(f\"The adversarial accuracy by Adv-DKNN is {acc_adv_advdknn}\")"
   ]
  },
  {
   "cell_type": "code",
   "execution_count": 6,
   "metadata": {},
   "outputs": [
    {
     "name": "stderr",
     "output_type": "stream",
     "text": [
      "100%|██████████| 2/2 [00:27<00:00, 13.80s/it]\n"
     ]
    },
    {
     "name": "stdout",
     "output_type": "stream",
     "text": [
      "The benign accuracy by DKNN is 0.817\n",
      "The adversarial accuracy by DKNN is 0.478\n"
     ]
    }
   ],
   "source": [
    "dknn = DKNN(\n",
    "    model,\n",
    "    train_data,\n",
    "    train_targets,\n",
    "    hidden_layers=[2,3],\n",
    "    device=device\n",
    ")\n",
    "pred_benign_dknn = dknn(x.to(device)).argmax(axis=1)\n",
    "acc_benign_dknn = (pred_benign_dknn == y.numpy()).astype(\"float\").mean()\n",
    "print(f\"The benign accuracy by DKNN is {acc_benign_dknn}\")\n",
    "\n",
    "pred_adv_dknn = dknn(x_adv.to(device)).argmax(axis=1)\n",
    "acc_adv_dknn = (pred_adv_dknn == y.numpy()).astype(\"float\").mean()\n",
    "print(f\"The adversarial accuracy by DKNN is {acc_adv_dknn}\")"
   ]
  },
  {
   "cell_type": "code",
   "execution_count": 7,
   "metadata": {},
   "outputs": [
    {
     "name": "stderr",
     "output_type": "stream",
     "text": [
      "100%|██████████| 2/2 [00:27<00:00, 13.51s/it]\n",
      "100%|██████████| 2/2 [00:27<00:00, 13.60s/it]\n"
     ]
    },
    {
     "name": "stdout",
     "output_type": "stream",
     "text": [
      "The benign accuracy by Adv-DKNN is 0.799\n",
      "The adversarial accuracy by Adv-DKNN is 0.525\n"
     ]
    }
   ],
   "source": [
    "advdknn = AdvDKNN(\n",
    "    model,\n",
    "    train_data,\n",
    "    train_targets,\n",
    "    hidden_layers=[2,3],\n",
    "    device=device,\n",
    "    eps=8 / 255.,\n",
    "    step_size=2 / 255.,\n",
    "    max_iter=10,\n",
    "    random_init=True\n",
    ")\n",
    "pred_benign_advdknn = advdknn(x.to(device)).argmax(axis=1)\n",
    "acc_benign_advdknn = (pred_benign_advdknn == y.numpy()).astype(\"float\").mean()\n",
    "print(f\"The benign accuracy by Adv-DKNN is {acc_benign_advdknn}\")\n",
    "\n",
    "pred_adv_advdknn = advdknn(x_adv.to(device)).argmax(axis=1)\n",
    "acc_adv_advdknn = (pred_adv_advdknn == y.numpy()).astype(\"float\").mean()\n",
    "print(f\"The adversarial accuracy by Adv-DKNN is {acc_adv_advdknn}\")"
   ]
  },
  {
   "cell_type": "code",
   "execution_count": 9,
   "metadata": {
    "scrolled": true
   },
   "outputs": [
    {
     "name": "stderr",
     "output_type": "stream",
     "text": [
      "100%|██████████| 1/1 [00:08<00:00,  8.63s/it]\n",
      "100%|██████████| 1/1 [00:08<00:00,  8.70s/it]\n"
     ]
    },
    {
     "name": "stdout",
     "output_type": "stream",
     "text": [
      "The benign accuracy by Adv-DKNN is 0.699\n",
      "The adversarial accuracy by Adv-DKNN is 0.535\n"
     ]
    }
   ],
   "source": [
    "advdknn = AdvDKNN(\n",
    "    model,\n",
    "    train_data,\n",
    "    train_targets,\n",
    "    hidden_layers=[3,],\n",
    "    weight=[0,0],\n",
    "    device=device,\n",
    "    eps=8 / 255.,\n",
    "    step_size=2 / 255.,\n",
    "    max_iter=10,\n",
    "    random_init=True\n",
    ")\n",
    "pred_benign_advdknn = advdknn(x.to(device)).argmax(axis=1)\n",
    "acc_benign_advdknn = (pred_benign_advdknn == y.numpy()).astype(\"float\").mean()\n",
    "print(f\"The benign accuracy by Adv-DKNN is {acc_benign_advdknn}\")\n",
    "\n",
    "pred_adv_advdknn = advdknn(x_adv.to(device)).argmax(axis=1)\n",
    "acc_adv_advdknn = (pred_adv_advdknn == y.numpy()).astype(\"float\").mean()\n",
    "print(f\"The adversarial accuracy by Adv-DKNN is {acc_adv_advdknn}\")"
   ]
  },
  {
   "cell_type": "code",
   "execution_count": null,
   "metadata": {},
   "outputs": [],
   "source": [
    "advdknn = AdvDKNN(\n",
    "    model,\n",
    "    train_data,\n",
    "    train_targets,\n",
    "    hidden_layers=[3,],\n",
    "    weight=0,\n",
    "    device=device,\n",
    "    eps=4 / 255.,\n",
    "    step_size=2 / 255.,\n",
    "    max_iter=10,\n",
    "    random_init=True\n",
    ")\n",
    "pred_benign_advdknn = advdknn(x.to(device)).argmax(axis=1)\n",
    "acc_benign_advdknn = (pred_benign_advdknn == y.numpy()).astype(\"float\").mean()\n",
    "print(f\"The benign accuracy by Adv-DKNN is {acc_benign_advdknn}\")\n",
    "\n",
    "pred_adv_advdknn = advdknn(x_adv.to(device)).argmax(axis=1)\n",
    "acc_adv_advdknn = (pred_adv_advdknn == y.numpy()).astype(\"float\").mean()\n",
    "print(f\"The adversarial accuracy by Adv-DKNN is {acc_adv_advdknn}\")"
   ]
  }
 ],
 "metadata": {
  "kernelspec": {
   "display_name": "Python 3",
   "language": "python",
   "name": "python3"
  },
  "language_info": {
   "codemirror_mode": {
    "name": "ipython",
    "version": 3
   },
   "file_extension": ".py",
   "mimetype": "text/x-python",
   "name": "python",
   "nbconvert_exporter": "python",
   "pygments_lexer": "ipython3",
   "version": "3.7.6"
  }
 },
 "nbformat": 4,
 "nbformat_minor": 4
}
